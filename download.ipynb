{
 "cells": [
  {
   "cell_type": "code",
   "execution_count": null,
   "metadata": {},
   "outputs": [],
   "source": [
    "import random\n",
    "import multiprocessing\n",
    "import time\n",
    "\n",
    "import pandas as pd\n",
    "from tqdm import tqdm\n",
    "import ccxt\n",
    "\n",
    "from utils import get_ohlcv_filename, symbols"
   ]
  },
  {
   "cell_type": "code",
   "execution_count": null,
   "metadata": {},
   "outputs": [],
   "source": [
    "exchange = ccxt.binance()"
   ]
  },
  {
   "cell_type": "code",
   "execution_count": null,
   "metadata": {},
   "outputs": [],
   "source": [
    "# lock for printing without text overlapping in a single line in multiprocessing\n",
    "lock = multiprocessing.Lock()\n",
    "\n",
    "def print_with_lock(text):\n",
    "    with lock:\n",
    "        print(text)"
   ]
  },
  {
   "cell_type": "code",
   "execution_count": null,
   "metadata": {},
   "outputs": [],
   "source": [
    "def log_error(e):\n",
    "    \"\"\"\n",
    "    Print a formatted error message to the console\n",
    "    \"\"\"\n",
    "    module = e.__module__ if hasattr(e, \"__module__\") else \"\"\n",
    "    print(f'''\n",
    "    {e.__class__=}\n",
    "    {module=}\n",
    "    {e.args=}\n",
    "    {e.__context__=}\n",
    "    ''')\n",
    "\n",
    "# TODO check if this works without this position variable\n",
    "position = 0\n",
    "\n",
    "def get_symbol_data(symbol, timeframe, since = 0):\n",
    "    \n",
    "    time.sleep(1)\n",
    "\n",
    "    columns = ['timestamp', 'open', 'high', 'low', 'close', 'volume']\n",
    "    \n",
    "    global position\n",
    "    pbar = tqdm(desc = f\"Downloading {symbol:>8}\", position=position)\n",
    "    position += 1\n",
    "    \n",
    "    candles = []\n",
    "\n",
    "    while True:\n",
    "\n",
    "        try:\n",
    "            candles_new = exchange.fetch_ohlcv(symbol=symbol, timeframe=timeframe, since=since, limit=1500)\n",
    "        except Exception as e:\n",
    "            # this catches ddos protection exceptions. sleep random time and continue.\n",
    "            time.sleep(random.randrange(60))\n",
    "            log_error(e)\n",
    "            continue\n",
    "        \n",
    "        if len(candles_new) == 0:\n",
    "            break\n",
    "        \n",
    "        candles += candles_new\n",
    "\n",
    "        since = candles[-1][0] + 1\n",
    "        \n",
    "        pbar.update(len(candles_new))\n",
    "    \n",
    "    pbar.close()\n",
    "        \n",
    "    return pd.DataFrame(candles, columns=columns)\n",
    "    "
   ]
  },
  {
   "cell_type": "code",
   "execution_count": null,
   "metadata": {},
   "outputs": [],
   "source": [
    "def download_or_update_symbol_data(symbol, timeframe = \"1m\"):\n",
    "    \n",
    "    filename = get_ohlcv_filename(symbol, timeframe)\n",
    "    \n",
    "    try:\n",
    "        \n",
    "        df = pd.read_pickle(filename)\n",
    "        \n",
    "        # file found, fetch new data, concat, save to file and return df\n",
    "        print_with_lock(f\"File {filename} found. Updating...\")\n",
    "        since = df[\"timestamp\"].iloc[-1] + 1\n",
    "        \n",
    "        df_new = get_symbol_data(symbol, timeframe, since)\n",
    "        if df_new.shape[0] > 0:\n",
    "            df = pd.concat([df, df_new], ignore_index = True)\n",
    "            df.to_pickle(filename)\n",
    "        \n",
    "    except FileNotFoundError:\n",
    "        \n",
    "        # file not found, download, save to file, and return df\n",
    "        print(f\"File {filename} not found. Downloading...\")\n",
    "        df = get_symbol_data(symbol, timeframe)\n",
    "        df.to_pickle(filename)\n",
    "        \n",
    "    return df"
   ]
  },
  {
   "cell_type": "code",
   "execution_count": null,
   "metadata": {},
   "outputs": [],
   "source": [
    "with multiprocessing.Pool() as pool:\n",
    "    for _ in pool.imap_unordered(download_or_update_symbol_data, symbols):\n",
    "        pass"
   ]
  }
 ],
 "metadata": {
  "kernelspec": {
   "display_name": "bot",
   "language": "python",
   "name": "python3"
  },
  "language_info": {
   "codemirror_mode": {
    "name": "ipython",
    "version": 3
   },
   "file_extension": ".py",
   "mimetype": "text/x-python",
   "name": "python",
   "nbconvert_exporter": "python",
   "pygments_lexer": "ipython3",
   "version": "3.11.3"
  },
  "orig_nbformat": 4
 },
 "nbformat": 4,
 "nbformat_minor": 2
}
