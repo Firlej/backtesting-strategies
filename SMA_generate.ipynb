{
 "cells": [
  {
   "cell_type": "code",
   "execution_count": 1,
   "metadata": {},
   "outputs": [],
   "source": [
    "import numpy as np\n",
    "import pandas as pd\n",
    "import matplotlib.pyplot as plt\n",
    "import pandas_ta as ta\n",
    "import itertools\n",
    "from tqdm import tqdm\n",
    "import random\n",
    "import multiprocessing\n",
    "import seaborn as sns\n",
    "import math"
   ]
  },
  {
   "cell_type": "code",
   "execution_count": 2,
   "metadata": {},
   "outputs": [],
   "source": [
    "def get_df():\n",
    "    df = pd.read_parquet('data.parquet', engine='pyarrow')\n",
    "    cols = ['time', 'close']\n",
    "    df = df[cols]\n",
    "    return df"
   ]
  },
  {
   "cell_type": "code",
   "execution_count": 3,
   "metadata": {},
   "outputs": [],
   "source": [
    "def add_sma(df, SMA_short, SMA_long):\n",
    "    \n",
    "    df[\"SMA_short\"] = ta.sma(df['close'], SMA_short)\n",
    "    df[\"SMA_long\"] = ta.sma(df['close'], SMA_long)\n",
    "        \n",
    "    df = df.dropna().reset_index(drop=True)\n",
    "    \n",
    "    return df"
   ]
  },
  {
   "cell_type": "code",
   "execution_count": 4,
   "metadata": {},
   "outputs": [],
   "source": [
    "def add_signals(df):\n",
    "    buy_condition = (df['SMA_short'] >= df['SMA_long']) & (df['SMA_short'].shift(1) < df['SMA_long'].shift(1))\n",
    "    sell_condition = (df['SMA_short'] < df['SMA_long']) & (df['SMA_short'].shift(1) >= df['SMA_long'].shift(1))\n",
    "\n",
    "    df['signals_buy'] = df.loc[buy_condition, 'close']\n",
    "    df['signals_sell'] = df.loc[sell_condition, 'close']\n",
    "\n",
    "    return df"
   ]
  },
  {
   "cell_type": "code",
   "execution_count": 5,
   "metadata": {},
   "outputs": [],
   "source": [
    "def get_signals_evaluation(df):\n",
    "\n",
    "    buys = df[\"signals_buy\"].dropna()\n",
    "    sells = df[\"signals_sell\"].dropna()\n",
    "    \n",
    "    # TODO is overall_profit_multiplier calculated properly?\n",
    "    return {\n",
    "        \"profit_multiplier\": sells.mean() / buys.mean(),\n",
    "        \"buy_sell_trade_pair_count\": (buys.count() + sells.count()) / 2,\n",
    "        \"overall_profit_multiplier\": (sells.mean() / buys.mean() - 1) * (buys.count() + sells.count()) / 2 + 1\n",
    "    }"
   ]
  },
  {
   "cell_type": "code",
   "execution_count": 6,
   "metadata": {},
   "outputs": [],
   "source": [
    "# generate cartiesian product of values in range\n",
    "# skip equal value pairs for our use case\n",
    "def get_range_product(start=2, stop=10, step=1, k = math.inf):\n",
    "\n",
    "    values = list(range(start, stop, step))\n",
    "    value_pairs = list(itertools.product(values, values))\n",
    "    # skip same value pairs\n",
    "    value_pairs = [(x, y) for (x, y) in value_pairs if x != y]\n",
    "    \n",
    "    # filter out a sample\n",
    "    value_pairs = random.sample(value_pairs, k = min(len(value_pairs), k))\n",
    "    \n",
    "    return value_pairs"
   ]
  },
  {
   "cell_type": "code",
   "execution_count": 7,
   "metadata": {},
   "outputs": [],
   "source": [
    "df_raw = get_df()\n",
    "\n",
    "def evaluate_sma_combination(sma_pair):\n",
    "    sma_short, sma_long = sma_pair\n",
    "    \n",
    "    df = add_signals(add_sma(df_raw, sma_short, sma_long))\n",
    "    \n",
    "    result = {\n",
    "        \"SMA_short\": sma_short,\n",
    "        \"SMA_long\": sma_long\n",
    "    }\n",
    "    \n",
    "    result.update(get_signals_evaluation(df))\n",
    "    \n",
    "    return result\n",
    "\n",
    "def evaluate_sma_combinations(sma_combinations):\n",
    "    with multiprocessing.Pool() as pool:\n",
    "        results_list = []\n",
    "        for result in tqdm(pool.imap_unordered(evaluate_sma_combination, sma_combinations), total=len(sma_combinations)):\n",
    "            results_list.append(result)\n",
    "            \n",
    "    return results_list"
   ]
  },
  {
   "cell_type": "code",
   "execution_count": 8,
   "metadata": {},
   "outputs": [
    {
     "name": "stderr",
     "output_type": "stream",
     "text": [
      "100%|██████████| 1482/1482 [04:12<00:00,  5.88it/s]\n"
     ]
    },
    {
     "name": "stdout",
     "output_type": "stream",
     "text": [
      "Saving to file: data/results_2_41_1_inf.pkl\n"
     ]
    }
   ],
   "source": [
    "start = 2\n",
    "stop = 41\n",
    "step = 1\n",
    "sample_size = math.inf\n",
    "\n",
    "sma_combinations = get_range_product(start, stop, step, sample_size)\n",
    "\n",
    "results_list = evaluate_sma_combinations(sma_combinations)\n",
    "\n",
    "results = pd.DataFrame(results_list)\n",
    "\n",
    "results_filename = f'data/results_{start}_{stop}_{step}_{sample_size}.pkl'\n",
    "print(f\"Saving to file: {results_filename}\")\n",
    "results.to_pickle(results_filename)"
   ]
  }
 ],
 "metadata": {
  "kernelspec": {
   "display_name": "bot",
   "language": "python",
   "name": "python3"
  },
  "language_info": {
   "codemirror_mode": {
    "name": "ipython",
    "version": 3
   },
   "file_extension": ".py",
   "mimetype": "text/x-python",
   "name": "python",
   "nbconvert_exporter": "python",
   "pygments_lexer": "ipython3",
   "version": "3.11.3"
  },
  "orig_nbformat": 4
 },
 "nbformat": 4,
 "nbformat_minor": 2
}
