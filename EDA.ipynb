{
 "cells": [
  {
   "cell_type": "code",
   "execution_count": null,
   "metadata": {},
   "outputs": [],
   "source": [
    "import pandas as pd"
   ]
  },
  {
   "cell_type": "code",
   "execution_count": null,
   "id": "42022b70",
   "metadata": {},
   "outputs": [],
   "source": [
    "df = pd.read_parquet('data.parquet', engine='pyarrow')\n",
    "\n",
    "# sort data raw by timestamp\n",
    "df.sort_values(by='time', inplace=True)"
   ]
  },
  {
   "cell_type": "code",
   "execution_count": null,
   "id": "828c44bc",
   "metadata": {},
   "outputs": [],
   "source": [
    "# Check the size of the dataset\n",
    "print(f'Number of rows: {df.shape[0]}')\n",
    "print(f'Number of columns: {df.shape[1]}')\n",
    "\n",
    "# Check starting and ending time lag of the dataset\n",
    "print(f'First time lag: {df.time.iloc[0]}')\n",
    "print(f'Last time lag: {df.time.iloc[-1]}')"
   ]
  },
  {
   "cell_type": "code",
   "execution_count": null,
   "id": "4a63be2b",
   "metadata": {},
   "outputs": [],
   "source": [
    "df.tail(1)"
   ]
  },
  {
   "cell_type": "code",
   "execution_count": null,
   "id": "b94bf25d",
   "metadata": {},
   "outputs": [],
   "source": [
    "df.info()"
   ]
  },
  {
   "cell_type": "code",
   "execution_count": null,
   "id": "2c24fbb6",
   "metadata": {},
   "outputs": [],
   "source": [
    "df.describe()"
   ]
  },
  {
   "cell_type": "code",
   "execution_count": null,
   "id": "700d2a48",
   "metadata": {},
   "outputs": [],
   "source": [
    "# line plot of close value over time\n",
    "df.plot(x='time', y='close', figsize=(16,8))"
   ]
  }
 ],
 "metadata": {
  "kernelspec": {
   "display_name": "Python 3 (ipykernel)",
   "language": "python",
   "name": "python3"
  },
  "language_info": {
   "codemirror_mode": {
    "name": "ipython",
    "version": 3
   },
   "file_extension": ".py",
   "mimetype": "text/x-python",
   "name": "python",
   "nbconvert_exporter": "python",
   "pygments_lexer": "ipython3",
   "version": "3.11.3"
  }
 },
 "nbformat": 4,
 "nbformat_minor": 5
}
